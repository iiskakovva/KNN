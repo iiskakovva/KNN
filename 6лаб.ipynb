{
  "nbformat": 4,
  "nbformat_minor": 0,
  "metadata": {
    "colab": {
      "provenance": []
    },
    "kernelspec": {
      "name": "python3",
      "display_name": "Python 3"
    },
    "language_info": {
      "name": "python"
    }
  },
  "cells": [
    {
      "cell_type": "markdown",
      "source": [
        "## Шаг 1: Импорт библиотек"
      ],
      "metadata": {
        "id": "T0rYlAy74ns-"
      }
    },
    {
      "cell_type": "code",
      "source": [
        "import pandas as pd\n",
        "import numpy as np\n",
        "from sklearn.model_selection import train_test_split\n",
        "from sklearn.preprocessing import LabelEncoder, StandardScaler\n"
      ],
      "metadata": {
        "id": "laSV121v4oCZ"
      },
      "execution_count": null,
      "outputs": []
    },
    {
      "cell_type": "markdown",
      "source": [
        "## Шаг 2: Загрузка и первичный осмотр данных"
      ],
      "metadata": {
        "id": "9o42Kaoq4oS7"
      }
    },
    {
      "cell_type": "code",
      "source": [
        "# Загрузка данных\n",
        "data_path = '/content/covid-19-all.csv'\n",
        "data = pd.read_csv(data_path)\n",
        "print(\"Первые пять строк данных:\")\n",
        "print(data.head())\n",
        "\n",
        "# Информация о данных для понимания структуры и типов данных\n",
        "print(\"Информация о данных:\")\n",
        "data.info()\n"
      ],
      "metadata": {
        "colab": {
          "base_uri": "https://localhost:8080/"
        },
        "id": "GceEoJ4-4xHu",
        "outputId": "9d7b244e-4568-4346-b270-5db3a32d4a07"
      },
      "execution_count": null,
      "outputs": [
        {
          "output_type": "stream",
          "name": "stdout",
          "text": [
            "Первые пять строк данных:\n",
            "   Country/Region Province/State  Latitude  Longitude  Confirmed  Recovered  \\\n",
            "0  Mainland China          Anhui   31.8257   117.2264        1.0        NaN   \n",
            "1  Mainland China        Beijing   40.1824   116.4142       14.0        NaN   \n",
            "2  Mainland China      Chongqing   30.0572   107.8740        6.0        NaN   \n",
            "3  Mainland China         Fujian   26.0789   117.9874        1.0        NaN   \n",
            "4  Mainland China          Gansu   36.0611   103.8343        NaN        NaN   \n",
            "\n",
            "   Deaths        Date  \n",
            "0     NaN  2020-01-22  \n",
            "1     NaN  2020-01-22  \n",
            "2     NaN  2020-01-22  \n",
            "3     NaN  2020-01-22  \n",
            "4     NaN  2020-01-22  \n",
            "Информация о данных:\n",
            "<class 'pandas.core.frame.DataFrame'>\n",
            "RangeIndex: 6162 entries, 0 to 6161\n",
            "Data columns (total 8 columns):\n",
            " #   Column          Non-Null Count  Dtype  \n",
            "---  ------          --------------  -----  \n",
            " 0   Country/Region  6162 non-null   object \n",
            " 1   Province/State  3697 non-null   object \n",
            " 2   Latitude        6161 non-null   float64\n",
            " 3   Longitude       6161 non-null   float64\n",
            " 4   Confirmed       6143 non-null   float64\n",
            " 5   Recovered       5774 non-null   float64\n",
            " 6   Deaths          5721 non-null   float64\n",
            " 7   Date            6162 non-null   object \n",
            "dtypes: float64(5), object(3)\n",
            "memory usage: 385.2+ KB\n"
          ]
        }
      ]
    },
    {
      "cell_type": "markdown",
      "source": [
        "##Шаг 3: Предобработка данных"
      ],
      "metadata": {
        "id": "HcfWwok95PuX"
      }
    },
    {
      "cell_type": "code",
      "source": [
        "# Заполнение пропущенных значений\n",
        "data.fillna(method='ffill', inplace=True)  # Заполняем пропущенные значения последним доступным значением\n",
        "\n",
        "# Кодирование категориальных переменных\n",
        "label_encoders = {}\n",
        "categorical_columns = ['Country/Region', 'Province/State']  # Перечисляем категориальные колонки\n",
        "for col in categorical_columns:\n",
        "    le = LabelEncoder()\n",
        "    data[col] = le.fit_transform(data[col].astype(str))\n",
        "    label_encoders[col] = le\n",
        "\n",
        "# Выводим преобразованные данные\n",
        "print(\"Данные после предобработки:\")\n",
        "print(data.head())\n"
      ],
      "metadata": {
        "colab": {
          "base_uri": "https://localhost:8080/"
        },
        "id": "V9Sbp9Jj5TvR",
        "outputId": "00be1cc6-d860-44fd-d39a-ad0fdaa04676"
      },
      "execution_count": null,
      "outputs": [
        {
          "output_type": "stream",
          "name": "stdout",
          "text": [
            "Данные после предобработки:\n",
            "   Country/Region  Province/State  Latitude  Longitude  Confirmed  Recovered  \\\n",
            "0              94               6   31.8257   117.2264        1.0        NaN   \n",
            "1              94              12   40.1824   116.4142       14.0        NaN   \n",
            "2              94              31   30.0572   107.8740        6.0        NaN   \n",
            "3              94              69   26.0789   117.9874        1.0        NaN   \n",
            "4              94              71   36.0611   103.8343        1.0        NaN   \n",
            "\n",
            "   Deaths        Date  \n",
            "0     NaN  2020-01-22  \n",
            "1     NaN  2020-01-22  \n",
            "2     NaN  2020-01-22  \n",
            "3     NaN  2020-01-22  \n",
            "4     NaN  2020-01-22  \n"
          ]
        }
      ]
    },
    {
      "cell_type": "markdown",
      "source": [
        "##Шаг 4: Масштабирование числовых признаков"
      ],
      "metadata": {
        "id": "S7ggwKoB5UD3"
      }
    },
    {
      "cell_type": "code",
      "source": [
        "# Выбор числовых признаков для масштабирования\n",
        "numeric_features = ['Confirmed', 'Deaths', 'Recovered']\n",
        "\n",
        "# Масштабирование числовых признаков\n",
        "scaler = StandardScaler()\n",
        "data[numeric_features] = scaler.fit_transform(data[numeric_features])\n",
        "\n",
        "# Вывод обработанных данных\n",
        "print(\"Данные после масштабирования числовых признаков:\")\n",
        "print(data.head())\n"
      ],
      "metadata": {
        "colab": {
          "base_uri": "https://localhost:8080/"
        },
        "id": "OjyxizDA5UYO",
        "outputId": "abcad40a-b7a0-44e2-81b0-d7ebe8a2384b"
      },
      "execution_count": null,
      "outputs": [
        {
          "output_type": "stream",
          "name": "stdout",
          "text": [
            "Данные после масштабирования числовых признаков:\n",
            "   Country/Region  Province/State  Latitude  Longitude  Confirmed  Recovered  \\\n",
            "0              94               6   31.8257   117.2264  -0.120095        NaN   \n",
            "1              94              12   40.1824   116.4142  -0.117447        NaN   \n",
            "2              94              31   30.0572   107.8740  -0.119076        NaN   \n",
            "3              94              69   26.0789   117.9874  -0.120095        NaN   \n",
            "4              94              71   36.0611   103.8343  -0.120095        NaN   \n",
            "\n",
            "   Deaths        Date  \n",
            "0     NaN  2020-01-22  \n",
            "1     NaN  2020-01-22  \n",
            "2     NaN  2020-01-22  \n",
            "3     NaN  2020-01-22  \n",
            "4     NaN  2020-01-22  \n"
          ]
        }
      ]
    },
    {
      "cell_type": "markdown",
      "source": [
        "##Шаг 5: Обучение модели KNN и подбор гиперпараметров"
      ],
      "metadata": {
        "id": "_fLY2Eoy5UnO"
      }
    },
    {
      "cell_type": "code",
      "source": [
        "from sklearn.impute import SimpleImputer\n",
        "\n",
        "# Инициализация импьютера для заполнения NaN\n",
        "imputer = SimpleImputer(strategy='mean')\n",
        "\n",
        "# Применение импьютера к тренировочным данным\n",
        "X_train_imputed = imputer.fit_transform(X_train)\n",
        "X_test_imputed = imputer.transform(X_test)\n",
        "\n",
        "# Подбор гиперпараметров с помощью GridSearchCV\n",
        "param_grid = { #словарь, содержащий параметры, которые нужно оптимизировать в KNN. Включает количество соседей (n_neighbors), тип весов (weights), и метрику расстояния (metric).\n",
        "    'n_neighbors': [3, 5, 7, 10],\n",
        "    'weights': ['uniform', 'distance'],\n",
        "    'metric': ['euclidean', 'manhattan', 'minkowski']\n",
        "}\n",
        "grid_search = GridSearchCV(KNeighborsClassifier(), param_grid, cv=3, scoring='accuracy') #инициализация поиска по сетке с кросс-валидацией для оптимального выбора параметров\n",
        "grid_search.fit(X_train_imputed, y_train) #запуск процесса обучения и поиска наилучших параметров модели на импутированных данных.\n",
        "\n",
        "# Вывод лучших параметров и лучшего скора\n",
        "print(\"Лучшие параметры:\", grid_search.best_params_)\n",
        "print(\"Лучший скор по кросс-валидации:\", grid_search.best_score_)"
      ],
      "metadata": {
        "colab": {
          "base_uri": "https://localhost:8080/"
        },
        "id": "7nBKJcYd5U3P",
        "outputId": "dfe5f472-31f2-453d-9d4c-a6c49f30b3c9"
      },
      "execution_count": null,
      "outputs": [
        {
          "output_type": "stream",
          "name": "stderr",
          "text": [
            "/usr/local/lib/python3.10/dist-packages/sklearn/model_selection/_split.py:700: UserWarning: The least populated class in y has only 1 members, which is less than n_splits=3.\n",
            "  warnings.warn(\n"
          ]
        },
        {
          "output_type": "stream",
          "name": "stdout",
          "text": [
            "Лучшие параметры: {'metric': 'euclidean', 'n_neighbors': 3, 'weights': 'distance'}\n",
            "Лучший скор по кросс-валидации: 0.9713937918441875\n"
          ]
        }
      ]
    },
    {
      "cell_type": "markdown",
      "source": [
        "##Шаг 6: Обучение взвешенного KNN"
      ],
      "metadata": {
        "id": "UMNRNKss5VJv"
      }
    },
    {
      "cell_type": "code",
      "source": [
        "# Обучение взвешенного KNN с лучшими параметрами\n",
        "weighted_knn = KNeighborsClassifier(n_neighbors=grid_search.best_params_['n_neighbors'], #создание экземпляра классификатора KNN с лучшими параметрами, найденными в шаге 5.\n",
        "                                     weights='distance',\n",
        "                                     metric=grid_search.best_params_['metric'])\n",
        "weighted_knn.fit(X_train_imputed, y_train) #обучение модели на импутированных обучающих данных.\n",
        "\n",
        "# Оценка модели на тестовой выборке\n",
        "y_pred = weighted_knn.predict(X_test_imputed) #прогнозирование на тестовых данных для оценки эффективности модели."
      ],
      "metadata": {
        "id": "UtwGrnP_5VdN"
      },
      "execution_count": null,
      "outputs": []
    },
    {
      "cell_type": "markdown",
      "source": [
        "## Шаг 7: Сравнение моделей по метрике F1"
      ],
      "metadata": {
        "id": "jcABwQIr97do"
      }
    },
    {
      "cell_type": "code",
      "source": [
        "from sklearn.metrics import f1_score, classification_report\n",
        "\n",
        "# Вычисление F1-метрики для базовой и взвешенной моделей\n",
        "f1_weighted = f1_score(y_test, y_pred, average='weighted') #обеспечивает учет классов с различным количеством примеров\n",
        "print(\"F1-метрика для взвешенной модели KNN:\", f1_weighted)\n",
        "\n",
        "# Дополнительный вывод отчета классификации для детального анализа\n",
        "print(classification_report(y_test, y_pred))\n"
      ],
      "metadata": {
        "colab": {
          "base_uri": "https://localhost:8080/"
        },
        "id": "NO3_DZP49_na",
        "outputId": "d033b178-813c-4e8a-8087-108c6064fe0e"
      },
      "execution_count": null,
      "outputs": [
        {
          "output_type": "stream",
          "name": "stdout",
          "text": [
            "F1-метрика для взвешенной модели KNN: 0.9779981648278621\n",
            "              precision    recall  f1-score   support\n",
            "\n",
            "           0       1.00      1.00      1.00         2\n",
            "           1       1.00      1.00      1.00         2\n",
            "           2       1.00      1.00      1.00         3\n",
            "           3       1.00      1.00      1.00         5\n",
            "           5       1.00      1.00      1.00         2\n",
            "           6       1.00      1.00      1.00         3\n",
            "           8       1.00      0.98      0.99        55\n",
            "           9       1.00      1.00      1.00         5\n",
            "          10       0.83      1.00      0.91         5\n",
            "          11       1.00      1.00      1.00         7\n",
            "          12       1.00      1.00      1.00         3\n",
            "          13       1.00      1.00      1.00         4\n",
            "          14       1.00      1.00      1.00        10\n",
            "          16       1.00      1.00      1.00         2\n",
            "          17       1.00      1.00      1.00         1\n",
            "          18       1.00      1.00      1.00         3\n",
            "          19       1.00      1.00      1.00         4\n",
            "          20       1.00      1.00      1.00         2\n",
            "          21       1.00      1.00      1.00         1\n",
            "          22       1.00      1.00      1.00         2\n",
            "          23       1.00      1.00      1.00         9\n",
            "          24       1.00      1.00      1.00         2\n",
            "          25       1.00      0.95      0.98        44\n",
            "          26       1.00      1.00      1.00         1\n",
            "          29       1.00      1.00      1.00         4\n",
            "          30       0.80      0.90      0.84        48\n",
            "          31       1.00      1.00      1.00         4\n",
            "          32       0.00      0.00      0.00         0\n",
            "          33       1.00      0.50      0.67         2\n",
            "          34       1.00      1.00      1.00         3\n",
            "          36       1.00      1.00      1.00         4\n",
            "          37       1.00      1.00      1.00         1\n",
            "          38       1.00      1.00      1.00         1\n",
            "          39       1.00      1.00      1.00         1\n",
            "          40       1.00      1.00      1.00         2\n",
            "          41       1.00      1.00      1.00         2\n",
            "          42       1.00      1.00      1.00         1\n",
            "          43       1.00      1.00      1.00         3\n",
            "          44       1.00      1.00      1.00         4\n",
            "          45       1.00      1.00      1.00         6\n",
            "          46       1.00      1.00      1.00         1\n",
            "          47       1.00      1.00      1.00         3\n",
            "          48       1.00      1.00      1.00         1\n",
            "          49       1.00      1.00      1.00         1\n",
            "          50       1.00      1.00      1.00         1\n",
            "          51       1.00      1.00      1.00         8\n",
            "          52       0.89      1.00      0.94        16\n",
            "          53       1.00      1.00      1.00         2\n",
            "          55       1.00      1.00      1.00         4\n",
            "          56       1.00      1.00      1.00         8\n",
            "          57       1.00      1.00      1.00         2\n",
            "          58       1.00      1.00      1.00         1\n",
            "          59       1.00      1.00      1.00         7\n",
            "          64       1.00      1.00      1.00         1\n",
            "          65       1.00      1.00      1.00         1\n",
            "          66       1.00      1.00      1.00         1\n",
            "          68       1.00      1.00      1.00        12\n",
            "          69       1.00      1.00      1.00         3\n",
            "          70       1.00      1.00      1.00         5\n",
            "          71       1.00      1.00      1.00        12\n",
            "          72       1.00      1.00      1.00         2\n",
            "          73       1.00      1.00      1.00         5\n",
            "          74       1.00      1.00      1.00         1\n",
            "          75       1.00      1.00      1.00         5\n",
            "          76       0.86      1.00      0.92         6\n",
            "          77       1.00      1.00      1.00         9\n",
            "          79       1.00      1.00      1.00         2\n",
            "          80       1.00      1.00      1.00        11\n",
            "          81       1.00      1.00      1.00         1\n",
            "          82       1.00      1.00      1.00         3\n",
            "          83       1.00      1.00      1.00         1\n",
            "          84       1.00      1.00      1.00         1\n",
            "          86       1.00      1.00      1.00         2\n",
            "          87       1.00      1.00      1.00         2\n",
            "          88       1.00      1.00      1.00         2\n",
            "          90       1.00      1.00      1.00         4\n",
            "          91       1.00      1.00      1.00         1\n",
            "          92       1.00      1.00      1.00         5\n",
            "          93       0.93      1.00      0.96        13\n",
            "          94       0.99      0.96      0.97       287\n",
            "          95       1.00      1.00      1.00        10\n",
            "          96       1.00      1.00      1.00         4\n",
            "          97       1.00      1.00      1.00         3\n",
            "          98       1.00      1.00      1.00         1\n",
            "          99       1.00      0.50      0.67         2\n",
            "         101       1.00      1.00      1.00         3\n",
            "         102       1.00      1.00      1.00         1\n",
            "         103       1.00      1.00      1.00         2\n",
            "         104       1.00      1.00      1.00         1\n",
            "         105       1.00      1.00      1.00         3\n",
            "         107       1.00      1.00      1.00        12\n",
            "         108       0.50      1.00      0.67         1\n",
            "         109       1.00      1.00      1.00         7\n",
            "         110       1.00      1.00      1.00         2\n",
            "         111       0.00      0.00      0.00         1\n",
            "         112       1.00      1.00      1.00         4\n",
            "         113       1.00      1.00      1.00         6\n",
            "         114       1.00      1.00      1.00         3\n",
            "         115       1.00      1.00      1.00         8\n",
            "         116       1.00      1.00      1.00         2\n",
            "         118       1.00      1.00      1.00         1\n",
            "         119       1.00      1.00      1.00         1\n",
            "         120       1.00      1.00      1.00         2\n",
            "         121       1.00      1.00      1.00         8\n",
            "         122       1.00      1.00      1.00         5\n",
            "         123       1.00      1.00      1.00         3\n",
            "         124       0.00      0.00      0.00         1\n",
            "         125       1.00      1.00      1.00         2\n",
            "         129       1.00      1.00      1.00         2\n",
            "         130       1.00      1.00      1.00         3\n",
            "         131       1.00      1.00      1.00        11\n",
            "         133       1.00      1.00      1.00         1\n",
            "         135       1.00      1.00      1.00         2\n",
            "         138       1.00      1.00      1.00         6\n",
            "         139       1.00      1.00      1.00         6\n",
            "         140       1.00      1.00      1.00         7\n",
            "         141       1.00      1.00      1.00         2\n",
            "         143       1.00      1.00      1.00         8\n",
            "         144       1.00      1.00      1.00         4\n",
            "         145       1.00      1.00      1.00         4\n",
            "         147       1.00      1.00      1.00         4\n",
            "         148       1.00      1.00      1.00        12\n",
            "         149       1.00      1.00      1.00        11\n",
            "         150       1.00      1.00      1.00        11\n",
            "         151       0.00      0.00      0.00         1\n",
            "         154       1.00      1.00      1.00        12\n",
            "         155       1.00      1.00      1.00         2\n",
            "         157       1.00      1.00      1.00        19\n",
            "         159       1.00      1.00      1.00         7\n",
            "         161       1.00      1.00      1.00         1\n",
            "         163       1.00      1.00      1.00         3\n",
            "         164       1.00      1.00      1.00         2\n",
            "         165       1.00      1.00      1.00         9\n",
            "         166       0.99      1.00      0.99       235\n",
            "         167       1.00      1.00      1.00         4\n",
            "         168       1.00      1.00      1.00         7\n",
            "         169       1.00      1.00      1.00         5\n",
            "         170       1.00      1.00      1.00         2\n",
            "         172       1.00      1.00      1.00         1\n",
            "         174       0.00      0.00      0.00         1\n",
            "         175       0.93      1.00      0.96        13\n",
            "\n",
            "    accuracy                           0.98      1233\n",
            "   macro avg       0.96      0.96      0.95      1233\n",
            "weighted avg       0.98      0.98      0.98      1233\n",
            "\n"
          ]
        },
        {
          "output_type": "stream",
          "name": "stderr",
          "text": [
            "/usr/local/lib/python3.10/dist-packages/sklearn/metrics/_classification.py:1344: UndefinedMetricWarning: Precision and F-score are ill-defined and being set to 0.0 in labels with no predicted samples. Use `zero_division` parameter to control this behavior.\n",
            "  _warn_prf(average, modifier, msg_start, len(result))\n",
            "/usr/local/lib/python3.10/dist-packages/sklearn/metrics/_classification.py:1344: UndefinedMetricWarning: Recall and F-score are ill-defined and being set to 0.0 in labels with no true samples. Use `zero_division` parameter to control this behavior.\n",
            "  _warn_prf(average, modifier, msg_start, len(result))\n",
            "/usr/local/lib/python3.10/dist-packages/sklearn/metrics/_classification.py:1344: UndefinedMetricWarning: Precision and F-score are ill-defined and being set to 0.0 in labels with no predicted samples. Use `zero_division` parameter to control this behavior.\n",
            "  _warn_prf(average, modifier, msg_start, len(result))\n",
            "/usr/local/lib/python3.10/dist-packages/sklearn/metrics/_classification.py:1344: UndefinedMetricWarning: Recall and F-score are ill-defined and being set to 0.0 in labels with no true samples. Use `zero_division` parameter to control this behavior.\n",
            "  _warn_prf(average, modifier, msg_start, len(result))\n",
            "/usr/local/lib/python3.10/dist-packages/sklearn/metrics/_classification.py:1344: UndefinedMetricWarning: Precision and F-score are ill-defined and being set to 0.0 in labels with no predicted samples. Use `zero_division` parameter to control this behavior.\n",
            "  _warn_prf(average, modifier, msg_start, len(result))\n",
            "/usr/local/lib/python3.10/dist-packages/sklearn/metrics/_classification.py:1344: UndefinedMetricWarning: Recall and F-score are ill-defined and being set to 0.0 in labels with no true samples. Use `zero_division` parameter to control this behavior.\n",
            "  _warn_prf(average, modifier, msg_start, len(result))\n"
          ]
        }
      ]
    },
    {
      "cell_type": "markdown",
      "source": [
        "## Шаг 8: Получение предсказания от модели для нового объекта"
      ],
      "metadata": {
        "id": "1cqhnwZl-ya3"
      }
    },
    {
      "cell_type": "code",
      "source": [
        "# Масштабирование нового объекта\n",
        "new_object = np.array([[10000, 5000, 200]])  # Пример данных: \"Confirmed\", \"Recovered\", \"Deaths\"\n",
        "new_object_scaled = scaler.transform(new_object)  # использование ранее созданного объекта scaler\n",
        "\n",
        "# Предсказание модели на масштабированных данных\n",
        "predicted_country = weighted_knn.predict(new_object_scaled)\n",
        "\n",
        "# Декодирование предсказанной метки в название страны\n",
        "predicted_country_name = label_encoders['Country/Region'].inverse_transform(predicted_country)\n",
        "\n",
        "print(\"Предсказанная страна для нового объекта:\", predicted_country_name[0])"
      ],
      "metadata": {
        "colab": {
          "base_uri": "https://localhost:8080/",
          "height": 407
        },
        "id": "c6xijzsB-3Fp",
        "outputId": "6e96dc4b-7dd2-44a9-ecdb-ae89b0a783b1"
      },
      "execution_count": null,
      "outputs": [
        {
          "output_type": "stream",
          "name": "stderr",
          "text": [
            "/usr/local/lib/python3.10/dist-packages/sklearn/base.py:439: UserWarning: X does not have valid feature names, but StandardScaler was fitted with feature names\n",
            "  warnings.warn(\n"
          ]
        },
        {
          "output_type": "error",
          "ename": "ValueError",
          "evalue": "X has 3 features, but KNeighborsClassifier is expecting 5 features as input.",
          "traceback": [
            "\u001b[0;31m---------------------------------------------------------------------------\u001b[0m",
            "\u001b[0;31mValueError\u001b[0m                                Traceback (most recent call last)",
            "\u001b[0;32m<ipython-input-39-1eaa23631c01>\u001b[0m in \u001b[0;36m<cell line: 6>\u001b[0;34m()\u001b[0m\n\u001b[1;32m      4\u001b[0m \u001b[0;34m\u001b[0m\u001b[0m\n\u001b[1;32m      5\u001b[0m \u001b[0;31m# Предсказание модели на масштабированных данных\u001b[0m\u001b[0;34m\u001b[0m\u001b[0;34m\u001b[0m\u001b[0m\n\u001b[0;32m----> 6\u001b[0;31m \u001b[0mpredicted_country\u001b[0m \u001b[0;34m=\u001b[0m \u001b[0mweighted_knn\u001b[0m\u001b[0;34m.\u001b[0m\u001b[0mpredict\u001b[0m\u001b[0;34m(\u001b[0m\u001b[0mnew_object_scaled\u001b[0m\u001b[0;34m)\u001b[0m\u001b[0;34m\u001b[0m\u001b[0;34m\u001b[0m\u001b[0m\n\u001b[0m\u001b[1;32m      7\u001b[0m \u001b[0;34m\u001b[0m\u001b[0m\n\u001b[1;32m      8\u001b[0m \u001b[0;31m# Декодирование предсказанной метки в название страны\u001b[0m\u001b[0;34m\u001b[0m\u001b[0;34m\u001b[0m\u001b[0m\n",
            "\u001b[0;32m/usr/local/lib/python3.10/dist-packages/sklearn/neighbors/_classification.py\u001b[0m in \u001b[0;36mpredict\u001b[0;34m(self, X)\u001b[0m\n\u001b[1;32m    235\u001b[0m             \u001b[0mneigh_dist\u001b[0m \u001b[0;34m=\u001b[0m \u001b[0;32mNone\u001b[0m\u001b[0;34m\u001b[0m\u001b[0;34m\u001b[0m\u001b[0m\n\u001b[1;32m    236\u001b[0m         \u001b[0;32melse\u001b[0m\u001b[0;34m:\u001b[0m\u001b[0;34m\u001b[0m\u001b[0;34m\u001b[0m\u001b[0m\n\u001b[0;32m--> 237\u001b[0;31m             \u001b[0mneigh_dist\u001b[0m\u001b[0;34m,\u001b[0m \u001b[0mneigh_ind\u001b[0m \u001b[0;34m=\u001b[0m \u001b[0mself\u001b[0m\u001b[0;34m.\u001b[0m\u001b[0mkneighbors\u001b[0m\u001b[0;34m(\u001b[0m\u001b[0mX\u001b[0m\u001b[0;34m)\u001b[0m\u001b[0;34m\u001b[0m\u001b[0;34m\u001b[0m\u001b[0m\n\u001b[0m\u001b[1;32m    238\u001b[0m \u001b[0;34m\u001b[0m\u001b[0m\n\u001b[1;32m    239\u001b[0m         \u001b[0mclasses_\u001b[0m \u001b[0;34m=\u001b[0m \u001b[0mself\u001b[0m\u001b[0;34m.\u001b[0m\u001b[0mclasses_\u001b[0m\u001b[0;34m\u001b[0m\u001b[0;34m\u001b[0m\u001b[0m\n",
            "\u001b[0;32m/usr/local/lib/python3.10/dist-packages/sklearn/neighbors/_base.py\u001b[0m in \u001b[0;36mkneighbors\u001b[0;34m(self, X, n_neighbors, return_distance)\u001b[0m\n\u001b[1;32m    804\u001b[0m                 \u001b[0mX\u001b[0m \u001b[0;34m=\u001b[0m \u001b[0m_check_precomputed\u001b[0m\u001b[0;34m(\u001b[0m\u001b[0mX\u001b[0m\u001b[0;34m)\u001b[0m\u001b[0;34m\u001b[0m\u001b[0;34m\u001b[0m\u001b[0m\n\u001b[1;32m    805\u001b[0m             \u001b[0;32melse\u001b[0m\u001b[0;34m:\u001b[0m\u001b[0;34m\u001b[0m\u001b[0;34m\u001b[0m\u001b[0m\n\u001b[0;32m--> 806\u001b[0;31m                 \u001b[0mX\u001b[0m \u001b[0;34m=\u001b[0m \u001b[0mself\u001b[0m\u001b[0;34m.\u001b[0m\u001b[0m_validate_data\u001b[0m\u001b[0;34m(\u001b[0m\u001b[0mX\u001b[0m\u001b[0;34m,\u001b[0m \u001b[0maccept_sparse\u001b[0m\u001b[0;34m=\u001b[0m\u001b[0;34m\"csr\"\u001b[0m\u001b[0;34m,\u001b[0m \u001b[0mreset\u001b[0m\u001b[0;34m=\u001b[0m\u001b[0;32mFalse\u001b[0m\u001b[0;34m,\u001b[0m \u001b[0morder\u001b[0m\u001b[0;34m=\u001b[0m\u001b[0;34m\"C\"\u001b[0m\u001b[0;34m)\u001b[0m\u001b[0;34m\u001b[0m\u001b[0;34m\u001b[0m\u001b[0m\n\u001b[0m\u001b[1;32m    807\u001b[0m \u001b[0;34m\u001b[0m\u001b[0m\n\u001b[1;32m    808\u001b[0m         \u001b[0mn_samples_fit\u001b[0m \u001b[0;34m=\u001b[0m \u001b[0mself\u001b[0m\u001b[0;34m.\u001b[0m\u001b[0mn_samples_fit_\u001b[0m\u001b[0;34m\u001b[0m\u001b[0;34m\u001b[0m\u001b[0m\n",
            "\u001b[0;32m/usr/local/lib/python3.10/dist-packages/sklearn/base.py\u001b[0m in \u001b[0;36m_validate_data\u001b[0;34m(self, X, y, reset, validate_separately, **check_params)\u001b[0m\n\u001b[1;32m    586\u001b[0m \u001b[0;34m\u001b[0m\u001b[0m\n\u001b[1;32m    587\u001b[0m         \u001b[0;32mif\u001b[0m \u001b[0;32mnot\u001b[0m \u001b[0mno_val_X\u001b[0m \u001b[0;32mand\u001b[0m \u001b[0mcheck_params\u001b[0m\u001b[0;34m.\u001b[0m\u001b[0mget\u001b[0m\u001b[0;34m(\u001b[0m\u001b[0;34m\"ensure_2d\"\u001b[0m\u001b[0;34m,\u001b[0m \u001b[0;32mTrue\u001b[0m\u001b[0;34m)\u001b[0m\u001b[0;34m:\u001b[0m\u001b[0;34m\u001b[0m\u001b[0;34m\u001b[0m\u001b[0m\n\u001b[0;32m--> 588\u001b[0;31m             \u001b[0mself\u001b[0m\u001b[0;34m.\u001b[0m\u001b[0m_check_n_features\u001b[0m\u001b[0;34m(\u001b[0m\u001b[0mX\u001b[0m\u001b[0;34m,\u001b[0m \u001b[0mreset\u001b[0m\u001b[0;34m=\u001b[0m\u001b[0mreset\u001b[0m\u001b[0;34m)\u001b[0m\u001b[0;34m\u001b[0m\u001b[0;34m\u001b[0m\u001b[0m\n\u001b[0m\u001b[1;32m    589\u001b[0m \u001b[0;34m\u001b[0m\u001b[0m\n\u001b[1;32m    590\u001b[0m         \u001b[0;32mreturn\u001b[0m \u001b[0mout\u001b[0m\u001b[0;34m\u001b[0m\u001b[0;34m\u001b[0m\u001b[0m\n",
            "\u001b[0;32m/usr/local/lib/python3.10/dist-packages/sklearn/base.py\u001b[0m in \u001b[0;36m_check_n_features\u001b[0;34m(self, X, reset)\u001b[0m\n\u001b[1;32m    387\u001b[0m \u001b[0;34m\u001b[0m\u001b[0m\n\u001b[1;32m    388\u001b[0m         \u001b[0;32mif\u001b[0m \u001b[0mn_features\u001b[0m \u001b[0;34m!=\u001b[0m \u001b[0mself\u001b[0m\u001b[0;34m.\u001b[0m\u001b[0mn_features_in_\u001b[0m\u001b[0;34m:\u001b[0m\u001b[0;34m\u001b[0m\u001b[0;34m\u001b[0m\u001b[0m\n\u001b[0;32m--> 389\u001b[0;31m             raise ValueError(\n\u001b[0m\u001b[1;32m    390\u001b[0m                 \u001b[0;34mf\"X has {n_features} features, but {self.__class__.__name__} \"\u001b[0m\u001b[0;34m\u001b[0m\u001b[0;34m\u001b[0m\u001b[0m\n\u001b[1;32m    391\u001b[0m                 \u001b[0;34mf\"is expecting {self.n_features_in_} features as input.\"\u001b[0m\u001b[0;34m\u001b[0m\u001b[0;34m\u001b[0m\u001b[0m\n",
            "\u001b[0;31mValueError\u001b[0m: X has 3 features, but KNeighborsClassifier is expecting 5 features as input."
          ]
        }
      ]
    }
  ]
}